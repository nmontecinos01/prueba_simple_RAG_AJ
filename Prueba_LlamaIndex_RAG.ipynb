{
  "cells": [
    {
      "cell_type": "markdown",
      "metadata": {
        "id": "gDCpSrA-7Y5Y"
      },
      "source": [
        "## Se de utilizar una versión de Python entre la 3.8.1 y menor a la 3.12 para utilizar LlamaIndex"
      ]
    },
    {
      "cell_type": "code",
      "execution_count": null,
      "metadata": {
        "colab": {
          "base_uri": "https://localhost:8080/"
        },
        "id": "vY95Mdo0x34f",
        "outputId": "6debb137-2ee9-454e-adb2-bc2c11d14c0e"
      },
      "outputs": [
        {
          "output_type": "stream",
          "name": "stdout",
          "text": [
            "\u001b[2K     \u001b[90m━━━━━━━━━━━━━━━━━━━━━━━━━━━━━━━━━━━━━━━━\u001b[0m \u001b[32m874.2/874.2 kB\u001b[0m \u001b[31m5.4 MB/s\u001b[0m eta \u001b[36m0:00:00\u001b[0m\n",
            "\u001b[2K     \u001b[90m━━━━━━━━━━━━━━━━━━━━━━━━━━━━━━━━━━━━━━━━\u001b[0m \u001b[32m559.5/559.5 kB\u001b[0m \u001b[31m7.6 MB/s\u001b[0m eta \u001b[36m0:00:00\u001b[0m\n",
            "\u001b[2K     \u001b[90m━━━━━━━━━━━━━━━━━━━━━━━━━━━━━━━━━━━━━━━━\u001b[0m \u001b[32m75.6/75.6 kB\u001b[0m \u001b[31m7.0 MB/s\u001b[0m eta \u001b[36m0:00:00\u001b[0m\n",
            "\u001b[2K     \u001b[90m━━━━━━━━━━━━━━━━━━━━━━━━━━━━━━━━━━━━━━━━\u001b[0m \u001b[32m325.5/325.5 kB\u001b[0m \u001b[31m8.4 MB/s\u001b[0m eta \u001b[36m0:00:00\u001b[0m\n",
            "\u001b[2K     \u001b[90m━━━━━━━━━━━━━━━━━━━━━━━━━━━━━━━━━━━━━━━━\u001b[0m \u001b[32m1.1/1.1 MB\u001b[0m \u001b[31m11.5 MB/s\u001b[0m eta \u001b[36m0:00:00\u001b[0m\n",
            "\u001b[2K     \u001b[90m━━━━━━━━━━━━━━━━━━━━━━━━━━━━━━━━━━━━━━━━\u001b[0m \u001b[32m143.9/143.9 kB\u001b[0m \u001b[31m12.2 MB/s\u001b[0m eta \u001b[36m0:00:00\u001b[0m\n",
            "\u001b[2K     \u001b[90m━━━━━━━━━━━━━━━━━━━━━━━━━━━━━━━━━━━━━━━━\u001b[0m \u001b[32m2.4/2.4 MB\u001b[0m \u001b[31m16.0 MB/s\u001b[0m eta \u001b[36m0:00:00\u001b[0m\n",
            "\u001b[2K     \u001b[90m━━━━━━━━━━━━━━━━━━━━━━━━━━━━━━━━━━━━━━━━\u001b[0m \u001b[32m92.0/92.0 kB\u001b[0m \u001b[31m5.6 MB/s\u001b[0m eta \u001b[36m0:00:00\u001b[0m\n",
            "\u001b[2K     \u001b[90m━━━━━━━━━━━━━━━━━━━━━━━━━━━━━━━━━━━━━━━━\u001b[0m \u001b[32m62.4/62.4 kB\u001b[0m \u001b[31m4.6 MB/s\u001b[0m eta \u001b[36m0:00:00\u001b[0m\n",
            "\u001b[2K     \u001b[90m━━━━━━━━━━━━━━━━━━━━━━━━━━━━━━━━━━━━━━━━\u001b[0m \u001b[32m41.3/41.3 kB\u001b[0m \u001b[31m3.8 MB/s\u001b[0m eta \u001b[36m0:00:00\u001b[0m\n",
            "\u001b[2K     \u001b[90m━━━━━━━━━━━━━━━━━━━━━━━━━━━━━━━━━━━━━━━━\u001b[0m \u001b[32m6.8/6.8 MB\u001b[0m \u001b[31m26.3 MB/s\u001b[0m eta \u001b[36m0:00:00\u001b[0m\n",
            "\u001b[2K     \u001b[90m━━━━━━━━━━━━━━━━━━━━━━━━━━━━━━━━━━━━━━━━\u001b[0m \u001b[32m59.9/59.9 kB\u001b[0m \u001b[31m4.8 MB/s\u001b[0m eta \u001b[36m0:00:00\u001b[0m\n",
            "\u001b[2K     \u001b[90m━━━━━━━━━━━━━━━━━━━━━━━━━━━━━━━━━━━━━━━━\u001b[0m \u001b[32m107.0/107.0 kB\u001b[0m \u001b[31m11.5 MB/s\u001b[0m eta \u001b[36m0:00:00\u001b[0m\n",
            "\u001b[2K     \u001b[90m━━━━━━━━━━━━━━━━━━━━━━━━━━━━━━━━━━━━━━━━\u001b[0m \u001b[32m67.3/67.3 kB\u001b[0m \u001b[31m6.2 MB/s\u001b[0m eta \u001b[36m0:00:00\u001b[0m\n",
            "\u001b[?25h  Installing build dependencies ... \u001b[?25l\u001b[?25hdone\n",
            "  Getting requirements to build wheel ... \u001b[?25l\u001b[?25hdone\n",
            "  Preparing metadata (pyproject.toml) ... \u001b[?25l\u001b[?25hdone\n",
            "\u001b[2K     \u001b[90m━━━━━━━━━━━━━━━━━━━━━━━━━━━━━━━━━━━━━━━━\u001b[0m \u001b[32m283.7/283.7 kB\u001b[0m \u001b[31m23.8 MB/s\u001b[0m eta \u001b[36m0:00:00\u001b[0m\n",
            "\u001b[2K     \u001b[90m━━━━━━━━━━━━━━━━━━━━━━━━━━━━━━━━━━━━━━━━\u001b[0m \u001b[32m1.7/1.7 MB\u001b[0m \u001b[31m33.5 MB/s\u001b[0m eta \u001b[36m0:00:00\u001b[0m\n",
            "\u001b[2K     \u001b[90m━━━━━━━━━━━━━━━━━━━━━━━━━━━━━━━━━━━━━━━━\u001b[0m \u001b[32m67.6/67.6 kB\u001b[0m \u001b[31m6.1 MB/s\u001b[0m eta \u001b[36m0:00:00\u001b[0m\n",
            "\u001b[2K     \u001b[90m━━━━━━━━━━━━━━━━━━━━━━━━━━━━━━━━━━━━━━━━\u001b[0m \u001b[32m145.0/145.0 kB\u001b[0m \u001b[31m8.0 MB/s\u001b[0m eta \u001b[36m0:00:00\u001b[0m\n",
            "\u001b[2K     \u001b[90m━━━━━━━━━━━━━━━━━━━━━━━━━━━━━━━━━━━━━━━━\u001b[0m \u001b[32m49.2/49.2 kB\u001b[0m \u001b[31m4.5 MB/s\u001b[0m eta \u001b[36m0:00:00\u001b[0m\n",
            "\u001b[2K     \u001b[90m━━━━━━━━━━━━━━━━━━━━━━━━━━━━━━━━━━━━━━━━\u001b[0m \u001b[32m71.9/71.9 kB\u001b[0m \u001b[31m6.2 MB/s\u001b[0m eta \u001b[36m0:00:00\u001b[0m\n",
            "\u001b[2K     \u001b[90m━━━━━━━━━━━━━━━━━━━━━━━━━━━━━━━━━━━━━━━━\u001b[0m \u001b[32m53.6/53.6 kB\u001b[0m \u001b[31m3.9 MB/s\u001b[0m eta \u001b[36m0:00:00\u001b[0m\n",
            "\u001b[2K     \u001b[90m━━━━━━━━━━━━━━━━━━━━━━━━━━━━━━━━━━━━━━━━\u001b[0m \u001b[32m77.9/77.9 kB\u001b[0m \u001b[31m7.5 MB/s\u001b[0m eta \u001b[36m0:00:00\u001b[0m\n",
            "\u001b[2K     \u001b[90m━━━━━━━━━━━━━━━━━━━━━━━━━━━━━━━━━━━━━━━━\u001b[0m \u001b[32m58.3/58.3 kB\u001b[0m \u001b[31m6.1 MB/s\u001b[0m eta \u001b[36m0:00:00\u001b[0m\n",
            "\u001b[2K     \u001b[90m━━━━━━━━━━━━━━━━━━━━━━━━━━━━━━━━━━━━━━━━\u001b[0m \u001b[32m46.0/46.0 kB\u001b[0m \u001b[31m4.6 MB/s\u001b[0m eta \u001b[36m0:00:00\u001b[0m\n",
            "\u001b[2K     \u001b[90m━━━━━━━━━━━━━━━━━━━━━━━━━━━━━━━━━━━━━━━━\u001b[0m \u001b[32m52.5/52.5 kB\u001b[0m \u001b[31m5.6 MB/s\u001b[0m eta \u001b[36m0:00:00\u001b[0m\n",
            "\u001b[2K     \u001b[90m━━━━━━━━━━━━━━━━━━━━━━━━━━━━━━━━━━━━━━━━\u001b[0m \u001b[32m130.5/130.5 kB\u001b[0m \u001b[31m12.7 MB/s\u001b[0m eta \u001b[36m0:00:00\u001b[0m\n",
            "\u001b[2K     \u001b[90m━━━━━━━━━━━━━━━━━━━━━━━━━━━━━━━━━━━━━━━━\u001b[0m \u001b[32m341.4/341.4 kB\u001b[0m \u001b[31m27.9 MB/s\u001b[0m eta \u001b[36m0:00:00\u001b[0m\n",
            "\u001b[2K     \u001b[90m━━━━━━━━━━━━━━━━━━━━━━━━━━━━━━━━━━━━━━━━\u001b[0m \u001b[32m3.4/3.4 MB\u001b[0m \u001b[31m42.2 MB/s\u001b[0m eta \u001b[36m0:00:00\u001b[0m\n",
            "\u001b[2K     \u001b[90m━━━━━━━━━━━━━━━━━━━━━━━━━━━━━━━━━━━━━━━━\u001b[0m \u001b[32m1.2/1.2 MB\u001b[0m \u001b[31m40.0 MB/s\u001b[0m eta \u001b[36m0:00:00\u001b[0m\n",
            "\u001b[2K     \u001b[90m━━━━━━━━━━━━━━━━━━━━━━━━━━━━━━━━━━━━━━━━\u001b[0m \u001b[32m130.2/130.2 kB\u001b[0m \u001b[31m11.0 MB/s\u001b[0m eta \u001b[36m0:00:00\u001b[0m\n",
            "\u001b[2K     \u001b[90m━━━━━━━━━━━━━━━━━━━━━━━━━━━━━━━━━━━━━━━━\u001b[0m \u001b[32m307.7/307.7 kB\u001b[0m \u001b[31m24.8 MB/s\u001b[0m eta \u001b[36m0:00:00\u001b[0m\n",
            "\u001b[2K     \u001b[90m━━━━━━━━━━━━━━━━━━━━━━━━━━━━━━━━━━━━━━━━\u001b[0m \u001b[32m86.8/86.8 kB\u001b[0m \u001b[31m7.8 MB/s\u001b[0m eta \u001b[36m0:00:00\u001b[0m\n",
            "\u001b[?25h  Building wheel for pypika (pyproject.toml) ... \u001b[?25l\u001b[?25hdone\n"
          ]
        }
      ],
      "source": [
        "!pip install -q llama-index==0.9.1 chromadb"
      ]
    },
    {
      "cell_type": "code",
      "execution_count": null,
      "metadata": {
        "id": "7vlPQ5Al7Y5d"
      },
      "outputs": [],
      "source": [
        "from llama_index.llms import OpenAI\n",
        "from llama_index import VectorStoreIndex, SimpleDirectoryReader\n",
        "from llama_index.response.notebook_utils import display_response\n",
        "import os\n",
        "from getpass import getpass"
      ]
    },
    {
      "cell_type": "markdown",
      "metadata": {
        "collapsed": false,
        "id": "Xuvu289AxyZ8",
        "pycharm": {
          "name": "#%% md\n"
        }
      },
      "source": [
        " ## Key"
      ]
    },
    {
      "cell_type": "code",
      "execution_count": null,
      "metadata": {
        "colab": {
          "base_uri": "https://localhost:8080/"
        },
        "id": "pOk9GQXlxyZ-",
        "outputId": "22254826-cba8-425e-c03e-852210a0b3b3",
        "pycharm": {
          "name": "#%%\n"
        }
      },
      "outputs": [
        {
          "name": "stdout",
          "output_type": "stream",
          "text": [
            "Enter the secret value for OpenAI Key: ··········\n"
          ]
        }
      ],
      "source": [
        "OPENAI_API_KEY = getpass('Enter the secret value for OpenAI Key: ')\n",
        "os.environ[\"OPENAI_API_KEY\"] = OPENAI_API_KEY"
      ]
    },
    {
      "cell_type": "markdown",
      "metadata": {
        "id": "l2WAwiBx7Y5f"
      },
      "source": [
        "Para probar que se concectado correctamente a la API de OpenAI"
      ]
    },
    {
      "cell_type": "code",
      "execution_count": null,
      "metadata": {
        "colab": {
          "base_uri": "https://localhost:8080/"
        },
        "id": "VZoll9eOxyZ-",
        "outputId": "1189a08b-37ff-4f79-b170-e05e888d2898",
        "pycharm": {
          "name": "#%%\n"
        }
      },
      "outputs": [
        {
          "output_type": "stream",
          "name": "stdout",
          "text": [
            "InnovaLAB UFRO es un laboratorio de innovación y emprendimiento de la Universidad de La Frontera (UFRO) en Chile. Este laboratorio tiene como objetivo fomentar la creatividad, la innovación y el emprendimiento entre los estudiantes, académicos y la comunidad en general, a través de la realización de actividades, talleres, charlas y programas de apoyo para el desarrollo de proyectos innovadores. InnovaLAB UFRO busca ser un espacio de colaboración y aprendizaje donde se puedan generar soluciones creativas a problemas actuales y promover el espíritu emprendedor en la comunidad universitaria.\n"
          ]
        }
      ],
      "source": [
        "resp = OpenAI().complete('Que es InnovaLAB UFRO?')\n",
        "print(resp)"
      ]
    },
    {
      "cell_type": "markdown",
      "metadata": {
        "collapsed": false,
        "id": "r8-C-UOexyaA",
        "pycharm": {
          "name": "#%% md\n"
        }
      },
      "source": [
        "RAG con Llama index"
      ]
    },
    {
      "cell_type": "code",
      "execution_count": null,
      "metadata": {
        "id": "o9GbuSrfxyaA",
        "pycharm": {
          "name": "#%%\n"
        }
      },
      "outputs": [],
      "source": [
        "### Cargando documentos\n",
        "documents = SimpleDirectoryReader('Input').load_data()"
      ]
    },
    {
      "cell_type": "code",
      "execution_count": null,
      "metadata": {
        "colab": {
          "base_uri": "https://localhost:8080/"
        },
        "id": "E0HDyZg3xyaB",
        "outputId": "6b770e32-eda7-4fa2-ae3e-d7aff581fffe",
        "pycharm": {
          "name": "#%%\n"
        }
      },
      "outputs": [
        {
          "output_type": "execute_result",
          "data": {
            "text/plain": [
              "[Document(id_='95f34bd5-5bda-4cb5-ab25-0d7c311b677f', embedding=None, metadata={'file_path': 'Input/Prueba_causa.json', 'file_name': 'Prueba_causa.json', 'file_type': 'application/json', 'file_size': 6574, 'creation_date': '2024-06-19', 'last_modified_date': '2024-06-19', 'last_accessed_date': '2024-06-19'}, excluded_embed_metadata_keys=['file_name', 'file_type', 'file_size', 'creation_date', 'last_modified_date', 'last_accessed_date'], excluded_llm_metadata_keys=['file_name', 'file_type', 'file_size', 'creation_date', 'last_modified_date', 'last_accessed_date'], relationships={}, hash='d52c4685fff10cbc697b09fa1815522dd7620a5abf56aedf6288c2800967b9b9', text='[\\n    {\\n      \"court\": \"C.A. de Temuco\",\\n      \"role\": \"38364\",\\n      \"year\": \"2022\",\\n      \"text\": \"POR TANTO: De acuerdo con lo dispuesto en los artículos 19, números 1°, 9° y 24°; artículo 20 de la Constitución Política de la República y al Auto Acordado de la Excma. Corte Suprema, sobre tramitación y fallo del recurso de protección de garantías constitucionales, y demás disposiciones constitucionales y legales citadas,  SOLICITO A V.S.I. que tenga por presentado este recurso de protección a favor de BARTOLOMÉ ENRIQUE SAGREDO COLL, en contra de ISAPRE Consalud S.A., por los actos ilegales y arbitrarios en que incurre, al haber modificado unilateralmente mi plan individual de salud, al alzar el precio de la cobertura GES, acto que menoscaba los derechos constitucionales asegurados en los números 1º, 9º y 24º del artículo 19 de la Constitución Política de la República, acogerlo a tramitación y en definitiva declarar:  1.- Que el alza a 1,390 UF por cada carga inscrita, en el precio de la cobertura GES, es arbitraria e ilegal y que la recurrida debe conservar las condiciones pactadas, sin modificaciones en el precio.  2.- Que la recurrida debe mantener sin alteraciones por concepto de precio de cobertura GES el plan individual de salud, todo ello con expresa condena en costas.  PRIMER OTROSÍ: En atención de los antecedentes de hecho y de derecho en que se apoya este recurso, solicito a S.S. ILTMA., se sirva decretar orden de no innovar, en términos de ordenar a que la Isapre no aplique el reajuste GES. Sírvase S.S. Iltma., así declararlo, ordenando se notifique por el medio que S.S., determine con la mayor urgencia a la recurrida.  SEGUNDO OTROSÍ: Se sirva tener por acompañado el siguiente documento:  1. Formulario Único de Notificación (FUN), que acredita la afiliación actual de la  parte recurrente a la ISAPRE  Consalud.  TERCER OTROSÍ: PIDO A S.S. ILTMA., Se sirva tener presente que en mi calidad de abogado habilitado para el ejercicio de la profesión patrocino personalmente el presente recurso de protección, en consideración del artículo 2° del Auto Acordado Acta 70-2007 de la Excelentísima Corte Suprema. \"\\n    },\\n    {\\n      \"court\": \"C.A. de Temuco\",\\n      \"role\": \"41083\",\\n      \"year\": \"2022\",\\n      \"text\": \"POR TANTO: De acuerdo con lo dispuesto en los artículos 19, números 1°, 9° y 24°; artículo 20 de la Constitución Política de la República y al Auto Acordado de la Excma. Corte Suprema, sobre tramitación y fallo del recurso de protección de garantías constitucionales, y demás disposiciones constitucionales y legales citadas,  SOLICITO A V.S.I. que tenga por presentado este recurso de protección a favor de BARTOLOMÉ ENRIQUE COLL SAGREDO, en contra de ISAPRE Consalud S.A., por los actos ilegales y arbitrarios en que incurre, al haber modificado unilateralmente mi plan individual de salud, al alzar el precio de la cobertura GES, acto que menoscaba los derechos constitucionales asegurados en los números 1º, 9º y 24º del artículo 19 de la Constitución Política de la República, acogerlo a tramitación y en definitiva declarar:  1.- Que el alza a 1,390 UF por cada carga inscrita, en el precio de la cobertura GES, es arbitraria e ilegal y que la recurrida debe conservar las condiciones pactadas, sin modificaciones en el precio.  2.- Que la recurrida debe mantener sin alteraciones por concepto de precio de cobertura GES el plan individual de salud, todo ello con expresa condena en costas.  PRIMER OTROSÍ: En atención de los antecedentes de hecho y de derecho en que se apoya este recurso, solicito a S.S. ILTMA., se sirva decretar orden de no innovar, en términos de ordenar a que la Isapre no aplique el reajuste GES. Sírvase S.S. Iltma., así declararlo, ordenando se notifique por el medio que S.S., determine con la mayor urgencia a la recurrida.  SEGUNDO OTROSÍ: Se sirva tener por acompañado el siguiente documento:  1. Documento emitido por la ISAPRE Consalud que acredita afiliación actual de  BARTOLOMÉ ENRIQUE COLL SAGREDO.  TERCER OTROSÍ: PIDO A S.S. ILTMA., Se sirva tener presente que en mi calidad de abogado habilitado para el ejercicio de la profesión patrocino personalmente el presente recurso de protección, en consideración del artículo 2° del Auto Acordado Acta 70-2007 de la Excelentísima Corte Suprema. \"\\n    },\\n    {\\n        \"court\": \"C.A. de Imperial\",\\n        \"role\": \"41088\",\\n        \"year\": \"2024\",\\n        \"text\": \"POR TANTO: De acuerdo con lo dispuesto en los artículos 19, números 1°, 9° y 24°; artículo 20 de la Constitución Política de la República y al Auto Acordado de la Excma. Corte Suprema, sobre tramitación y fallo del recurso de protección de garantías constitucionales, y demás disposiciones constitucionales y legales citadas,  SOLICITO A V.S.I. que tenga por presentado este recurso de protección a favor de ROBERTO CAMPOS RIBERA, en contra de ISAPRE Consalud S.A., por los actos ilegales y arbitrarios en que incurre, al haber modificado unilateralmente mi plan individual de salud, al alzar el precio de la cobertura GES, acto que menoscaba los derechos constitucionales asegurados en los números 1º, 9º y 24º del artículo 19 de la Constitución Política de la República, acogerlo a tramitación y en definitiva declarar:  1.- Que el alza a 1,390 UF por cada carga inscrita, en el precio de la cobertura GES, es arbitraria e ilegal y que la recurrida debe conservar las condiciones pactadas, sin modificaciones en el precio.  2.- Que la recurrida debe mantener sin alteraciones por concepto de precio de cobertura GES el plan individual de salud, todo ello con expresa condena en costas.  PRIMER OTROSÍ: En atención de los antecedentes de hecho y de derecho en que se apoya este recurso, solicito a S.S. ILTMA., se sirva decretar orden de no innovar, en términos de ordenar a que la Isapre no aplique el reajuste GES. Sírvase S.S. Iltma., así declararlo, ordenando se notifique por el medio que S.S., determine con la mayor urgencia a la recurrida.  SEGUNDO OTROSÍ: Se sirva tener por acompañado el siguiente documento:  1. Documento emitido por la ISAPRE Consalud que acredita afiliación actual de  ROBERTO CAMPOS RIBERA.  TERCER OTROSÍ: PIDO A S.S. ILTMA., Se sirva tener presente que en mi calidad de abogado habilitado para el ejercicio de la profesión patrocino personalmente el presente recurso de protección, en consideración del artículo 2° del Auto Acordado Acta 70-2007 de la Excelentísima Corte Suprema. \"\\n      }\\n\\n  ]', start_char_idx=None, end_char_idx=None, text_template='{metadata_str}\\n\\n{content}', metadata_template='{key}: {value}', metadata_seperator='\\n')]"
            ]
          },
          "metadata": {},
          "execution_count": 6
        }
      ],
      "source": [
        "documents"
      ]
    },
    {
      "cell_type": "code",
      "execution_count": null,
      "metadata": {
        "id": "5L7UYa987Y5i"
      },
      "outputs": [],
      "source": [
        "prompt=\"\"\"Analiza los textos proporcionados para identificar y comparar casos judiciales relacionados con el alza de precios de planes de isapres. Concéntrate en los siguientes elementos:\n",
        "        1. Identificar el nombre del recurrente, que aparece después de \"a favor de\".\n",
        "        2. Identificar el nombre del recurrido, que aparece después de \"en contra de\".\n",
        "        3. Extraer la materia, que se encuentra entre \"Corte Suprema, sobre tramitación y fallo del\" y \"acto que menoscaba\".\n",
        "        4. Formatear la caratulada como \"apellidos recurrente/recurrido\" en mayúsculas.\n",
        "        5. Comparar los textos para determinar similitudes y diferencias en los elementos mencionados.\n",
        "\n",
        "        Debes devolver la respuesta exclusivamente en formato JSON como un arreglo de objetos con la siguiente estructura:\n",
        "        {{\n",
        "        \"solicitant_name\": \"string\",\n",
        "        \"respondent_name\": \"string\",\n",
        "        \"subject_matter\": \"string\",\n",
        "        \"case_heading\": \"string\",\n",
        "        \"similarity_score\": \"float\",\n",
        "        \"similar_text\": \"string\"\n",
        "        \"difference_text\":\"string\"\n",
        "        }}\n",
        "        No incluyas texto adicional fuera del JSON.\"\"\"\n"
      ]
    },
    {
      "cell_type": "code",
      "execution_count": null,
      "metadata": {
        "id": "WgnddfMfxyaB",
        "pycharm": {
          "name": "#%%\n"
        },
        "colab": {
          "base_uri": "https://localhost:8080/"
        },
        "outputId": "a2746af4-3123-4462-b650-5d5b12f739ab"
      },
      "outputs": [
        {
          "output_type": "stream",
          "name": "stderr",
          "text": [
            "[nltk_data] Downloading package punkt to /tmp/llama_index...\n",
            "[nltk_data]   Unzipping tokenizers/punkt.zip.\n"
          ]
        }
      ],
      "source": [
        "### Creando un indice con base a los documentos\n",
        "index = VectorStoreIndex.from_documents(documents)\n",
        "query_engine = index.as_query_engine()"
      ]
    },
    {
      "cell_type": "code",
      "execution_count": null,
      "metadata": {
        "id": "Z7hk5HTkxyaB",
        "pycharm": {
          "name": "#%%\n"
        }
      },
      "outputs": [],
      "source": [
        "## Ejecutando inferencia con Rag\n",
        "response = query_engine.query(prompt)\n",
        "#display_response(response)"
      ]
    },
    {
      "cell_type": "code",
      "execution_count": null,
      "metadata": {
        "colab": {
          "base_uri": "https://localhost:8080/"
        },
        "id": "T2-LoE1u7Y5j",
        "outputId": "9c318e78-b2a4-4e8b-bc13-145df773cf78"
      },
      "outputs": [
        {
          "output_type": "stream",
          "name": "stdout",
          "text": [
            "{\n",
            "    \"solicitant_name\": \"BARTOLOMÉ ENRIQUE SAGREDO COLL\",\n",
            "    \"respondent_name\": \"ISAPRE Consalud S.A.\",\n",
            "    \"subject_matter\": \"recurso de protección de garantías constitucionales\",\n",
            "    \"case_heading\": \"SAGREDO COLL/CONSALUD S.A.\",\n",
            "    \"similarity_score\": 0.75,\n",
            "    \"similar_text\": \"POR TANTO: De acuerdo con lo dispuesto en los artículos 19, números 1°, 9° y 24°; artículo 20 de la Constitución Política de la República y al Auto Acordado de la Excma. Corte Suprema, sobre tramitación y fallo del recurso de protección de garantías constitucionales, y demás disposiciones constitucionales y legales citadas,  SOLICITO A V.S.I. que tenga por presentado este recurso de protección a favor de BARTOLOMÉ ENRIQUE SAGREDO COLL, en contra de ISAPRE Consalud S.A., por los actos ilegales y arbitrarios en que incurre, al haber modificado unilateralmente mi plan individual de salud, al alzar el precio de la cobertura GES, acto que menoscaba los derechos constitucionales asegurados en los números 1º, 9º y 24º del artículo 19 de la Constitución Política de la República, acogerlo a tramitación y en definitiva declarar:  1.- Que el alza a 1,390 UF por cada carga inscrita, en el precio de la cobertura GES, es arbitraria e ilegal y que la recurrida debe conservar las condiciones pactadas, sin modificaciones en el precio.\",\n",
            "    \"difference_text\": \"SEGUNDO OTROSÍ: Se sirva tener por acompañado el siguiente documento:  1. Formulario Único de Notificación (FUN), que acredita la afiliación actual de la  parte recurrente a la ISAPRE  Consalud.  TERCER OTROSÍ: PIDO A S.S. ILTMA., Se sirva tener presente que en mi calidad de abogado habilitado para el ejercicio de la profesión patrocino personalmente el presente recurso de protección, en consideración del artículo 2° del Auto Acordado Acta 70-2007 de la Excelentísima Corte Suprema.\"\n",
            "}\n"
          ]
        }
      ],
      "source": [
        "print(response)"
      ]
    },
    {
      "cell_type": "code",
      "execution_count": null,
      "metadata": {
        "id": "NDR6BGqN7Y5j",
        "outputId": "0b9447e7-21dd-40fd-a38d-5b6412a19fea",
        "colab": {
          "base_uri": "https://localhost:8080/"
        }
      },
      "outputs": [
        {
          "output_type": "execute_result",
          "data": {
            "text/plain": [
              "llama_index.response.schema.Response"
            ]
          },
          "metadata": {},
          "execution_count": 19
        }
      ],
      "source": [
        "type(response)"
      ]
    },
    {
      "cell_type": "code",
      "source": [
        "response_str = str(response)\n",
        "response_str = response_str.replace('\\n', '')  # Eliminar saltos de línea\n",
        "print(type(response_str))  # Debería imprimir <class 'str'>\n",
        "print(response_str)  # Imprimir la respuesta como string sin saltos de línea"
      ],
      "metadata": {
        "id": "nRkGfSBx03Dd",
        "colab": {
          "base_uri": "https://localhost:8080/"
        },
        "outputId": "1a4f7e80-d43e-4590-97b0-bba16bc5c9f1"
      },
      "execution_count": null,
      "outputs": [
        {
          "output_type": "stream",
          "name": "stdout",
          "text": [
            "<class 'str'>\n",
            "{    \"solicitant_name\": \"BARTOLOMÉ ENRIQUE SAGREDO COLL\",    \"respondent_name\": \"ISAPRE Consalud S.A.\",    \"subject_matter\": \"recurso de protección de garantías constitucionales\",    \"case_heading\": \"SAGREDO COLL/CONSALUD S.A.\",    \"similarity_score\": 0.75,    \"similar_text\": \"POR TANTO: De acuerdo con lo dispuesto en los artículos 19, números 1°, 9° y 24°; artículo 20 de la Constitución Política de la República y al Auto Acordado de la Excma. Corte Suprema, sobre tramitación y fallo del recurso de protección de garantías constitucionales, y demás disposiciones constitucionales y legales citadas,  SOLICITO A V.S.I. que tenga por presentado este recurso de protección a favor de BARTOLOMÉ ENRIQUE SAGREDO COLL, en contra de ISAPRE Consalud S.A., por los actos ilegales y arbitrarios en que incurre, al haber modificado unilateralmente mi plan individual de salud, al alzar el precio de la cobertura GES, acto que menoscaba los derechos constitucionales asegurados en los números 1º, 9º y 24º del artículo 19 de la Constitución Política de la República, acogerlo a tramitación y en definitiva declarar:  1.- Que el alza a 1,390 UF por cada carga inscrita, en el precio de la cobertura GES, es arbitraria e ilegal y que la recurrida debe conservar las condiciones pactadas, sin modificaciones en el precio.\",    \"difference_text\": \"SEGUNDO OTROSÍ: Se sirva tener por acompañado el siguiente documento:  1. Formulario Único de Notificación (FUN), que acredita la afiliación actual de la  parte recurrente a la ISAPRE  Consalud.  TERCER OTROSÍ: PIDO A S.S. ILTMA., Se sirva tener presente que en mi calidad de abogado habilitado para el ejercicio de la profesión patrocino personalmente el presente recurso de protección, en consideración del artículo 2° del Auto Acordado Acta 70-2007 de la Excelentísima Corte Suprema.\"}\n"
          ]
        }
      ]
    },
    {
      "cell_type": "code",
      "source": [
        "response"
      ],
      "metadata": {
        "colab": {
          "base_uri": "https://localhost:8080/"
        },
        "id": "fjixQBOt1QMw",
        "outputId": "c0c461a0-3859-475b-f568-d9443211e7c4"
      },
      "execution_count": null,
      "outputs": [
        {
          "output_type": "execute_result",
          "data": {
            "text/plain": [
              "Response(response='{\\n    \"solicitant_name\": \"BARTOLOMÉ ENRIQUE SAGREDO COLL\",\\n    \"respondent_name\": \"ISAPRE Consalud S.A.\",\\n    \"subject_matter\": \"recurso de protección de garantías constitucionales\",\\n    \"case_heading\": \"SAGREDO COLL/CONSALUD S.A.\",\\n    \"similarity_score\": 0.75,\\n    \"similar_text\": \"POR TANTO: De acuerdo con lo dispuesto en los artículos 19, números 1°, 9° y 24°; artículo 20 de la Constitución Política de la República y al Auto Acordado de la Excma. Corte Suprema, sobre tramitación y fallo del recurso de protección de garantías constitucionales, y demás disposiciones constitucionales y legales citadas,  SOLICITO A V.S.I. que tenga por presentado este recurso de protección a favor de BARTOLOMÉ ENRIQUE SAGREDO COLL, en contra de ISAPRE Consalud S.A., por los actos ilegales y arbitrarios en que incurre, al haber modificado unilateralmente mi plan individual de salud, al alzar el precio de la cobertura GES, acto que menoscaba los derechos constitucionales asegurados en los números 1º, 9º y 24º del artículo 19 de la Constitución Política de la República, acogerlo a tramitación y en definitiva declarar:  1.- Que el alza a 1,390 UF por cada carga inscrita, en el precio de la cobertura GES, es arbitraria e ilegal y que la recurrida debe conservar las condiciones pactadas, sin modificaciones en el precio.\",\\n    \"difference_text\": \"SEGUNDO OTROSÍ: Se sirva tener por acompañado el siguiente documento:  1. Formulario Único de Notificación (FUN), que acredita la afiliación actual de la  parte recurrente a la ISAPRE  Consalud.  TERCER OTROSÍ: PIDO A S.S. ILTMA., Se sirva tener presente que en mi calidad de abogado habilitado para el ejercicio de la profesión patrocino personalmente el presente recurso de protección, en consideración del artículo 2° del Auto Acordado Acta 70-2007 de la Excelentísima Corte Suprema.\"\\n}', source_nodes=[NodeWithScore(node=TextNode(id_='fa372ff5-430c-4f36-bd06-cd7ac36fb3f9', embedding=None, metadata={'file_path': 'Input/Prueba_causa.json', 'file_name': 'Prueba_causa.json', 'file_type': 'application/json', 'file_size': 6574, 'creation_date': '2024-06-19', 'last_modified_date': '2024-06-19', 'last_accessed_date': '2024-06-19'}, excluded_embed_metadata_keys=['file_name', 'file_type', 'file_size', 'creation_date', 'last_modified_date', 'last_accessed_date'], excluded_llm_metadata_keys=['file_name', 'file_type', 'file_size', 'creation_date', 'last_modified_date', 'last_accessed_date'], relationships={<NodeRelationship.SOURCE: '1'>: RelatedNodeInfo(node_id='95f34bd5-5bda-4cb5-ab25-0d7c311b677f', node_type=<ObjectType.DOCUMENT: '4'>, metadata={'file_path': 'Input/Prueba_causa.json', 'file_name': 'Prueba_causa.json', 'file_type': 'application/json', 'file_size': 6574, 'creation_date': '2024-06-19', 'last_modified_date': '2024-06-19', 'last_accessed_date': '2024-06-19'}, hash='d52c4685fff10cbc697b09fa1815522dd7620a5abf56aedf6288c2800967b9b9'), <NodeRelationship.NEXT: '3'>: RelatedNodeInfo(node_id='4df12351-95d0-4c75-a95c-16155abe6a27', node_type=<ObjectType.TEXT: '1'>, metadata={'file_path': 'Input/Prueba_causa.json', 'file_name': 'Prueba_causa.json', 'file_type': 'application/json', 'file_size': 6574, 'creation_date': '2024-06-19', 'last_modified_date': '2024-06-19', 'last_accessed_date': '2024-06-19'}, hash='dc0e2bdae9e20ad3611f1f8c5b2228bb9b27ceac2763893be5d45da536e4c4ff')}, hash='d5dd7afd3a00eb8b896d64e4c5c26c7e23b0fc1e459fc583b0be4dad246ee40c', text='[\\n    {\\n      \"court\": \"C.A. de Temuco\",\\n      \"role\": \"38364\",\\n      \"year\": \"2022\",\\n      \"text\": \"POR TANTO: De acuerdo con lo dispuesto en los artículos 19, números 1°, 9° y 24°; artículo 20 de la Constitución Política de la República y al Auto Acordado de la Excma. Corte Suprema, sobre tramitación y fallo del recurso de protección de garantías constitucionales, y demás disposiciones constitucionales y legales citadas,  SOLICITO A V.S.I. que tenga por presentado este recurso de protección a favor de BARTOLOMÉ ENRIQUE SAGREDO COLL, en contra de ISAPRE Consalud S.A., por los actos ilegales y arbitrarios en que incurre, al haber modificado unilateralmente mi plan individual de salud, al alzar el precio de la cobertura GES, acto que menoscaba los derechos constitucionales asegurados en los números 1º, 9º y 24º del artículo 19 de la Constitución Política de la República, acogerlo a tramitación y en definitiva declarar:  1.- Que el alza a 1,390 UF por cada carga inscrita, en el precio de la cobertura GES, es arbitraria e ilegal y que la recurrida debe conservar las condiciones pactadas, sin modificaciones en el precio.  2.- Que la recurrida debe mantener sin alteraciones por concepto de precio de cobertura GES el plan individual de salud, todo ello con expresa condena en costas.  PRIMER OTROSÍ: En atención de los antecedentes de hecho y de derecho en que se apoya este recurso, solicito a S.S. ILTMA., se sirva decretar orden de no innovar, en términos de ordenar a que la Isapre no aplique el reajuste GES. Sírvase S.S. Iltma., así declararlo, ordenando se notifique por el medio que S.S., determine con la mayor urgencia a la recurrida.  SEGUNDO OTROSÍ: Se sirva tener por acompañado el siguiente documento:  1. Formulario Único de Notificación (FUN), que acredita la afiliación actual de la  parte recurrente a la ISAPRE  Consalud.  TERCER OTROSÍ: PIDO A S.S. ILTMA., Se sirva tener presente que en mi calidad de abogado habilitado para el ejercicio de la profesión patrocino personalmente el presente recurso de protección, en consideración del artículo 2° del Auto Acordado Acta 70-2007 de la Excelentísima Corte Suprema. \"\\n    },\\n    {\\n      \"court\": \"C.A. de Temuco\",\\n      \"role\": \"41083\",\\n      \"year\": \"2022\",\\n      \"text\": \"POR TANTO: De acuerdo con lo dispuesto en los artículos 19, números 1°, 9° y 24°; artículo 20 de la Constitución Política de la República y al Auto Acordado de la Excma. Corte Suprema, sobre tramitación y fallo del recurso de protección de garantías constitucionales, y demás disposiciones constitucionales y legales citadas,  SOLICITO A V.S.I. que tenga por presentado este recurso de protección a favor de BARTOLOMÉ ENRIQUE COLL SAGREDO, en contra de ISAPRE Consalud S.A., por los actos ilegales y arbitrarios en que incurre, al haber modificado unilateralmente mi plan individual de salud, al alzar el precio de la cobertura GES, acto que menoscaba los derechos constitucionales asegurados en los números 1º, 9º y 24º del artículo 19 de la Constitución Política de la República, acogerlo a tramitación y en definitiva declarar:  1.- Que el alza a 1,390 UF por cada carga inscrita, en el precio de la cobertura GES, es arbitraria e ilegal y que la recurrida debe conservar las condiciones pactadas, sin modificaciones en el precio.', start_char_idx=None, end_char_idx=None, text_template='{metadata_str}\\n\\n{content}', metadata_template='{key}: {value}', metadata_seperator='\\n'), score=0.852778847129177), NodeWithScore(node=TextNode(id_='e0ed13c0-4f79-4bc2-a472-967127383428', embedding=None, metadata={'file_path': 'Input/Prueba_causa.json', 'file_name': 'Prueba_causa.json', 'file_type': 'application/json', 'file_size': 6574, 'creation_date': '2024-06-19', 'last_modified_date': '2024-06-19', 'last_accessed_date': '2024-06-19'}, excluded_embed_metadata_keys=['file_name', 'file_type', 'file_size', 'creation_date', 'last_modified_date', 'last_accessed_date'], excluded_llm_metadata_keys=['file_name', 'file_type', 'file_size', 'creation_date', 'last_modified_date', 'last_accessed_date'], relationships={<NodeRelationship.SOURCE: '1'>: RelatedNodeInfo(node_id='95f34bd5-5bda-4cb5-ab25-0d7c311b677f', node_type=<ObjectType.DOCUMENT: '4'>, metadata={'file_path': 'Input/Prueba_causa.json', 'file_name': 'Prueba_causa.json', 'file_type': 'application/json', 'file_size': 6574, 'creation_date': '2024-06-19', 'last_modified_date': '2024-06-19', 'last_accessed_date': '2024-06-19'}, hash='d52c4685fff10cbc697b09fa1815522dd7620a5abf56aedf6288c2800967b9b9'), <NodeRelationship.PREVIOUS: '2'>: RelatedNodeInfo(node_id='4df12351-95d0-4c75-a95c-16155abe6a27', node_type=<ObjectType.TEXT: '1'>, metadata={'file_path': 'Input/Prueba_causa.json', 'file_name': 'Prueba_causa.json', 'file_type': 'application/json', 'file_size': 6574, 'creation_date': '2024-06-19', 'last_modified_date': '2024-06-19', 'last_accessed_date': '2024-06-19'}, hash='dc0e2bdae9e20ad3611f1f8c5b2228bb9b27ceac2763893be5d45da536e4c4ff')}, hash='b6076833120a6f05e2270ada092ceac3f64063413b38f7528344ca636452be32', text='2.- Que la recurrida debe mantener sin alteraciones por concepto de precio de cobertura GES el plan individual de salud, todo ello con expresa condena en costas.  PRIMER OTROSÍ: En atención de los antecedentes de hecho y de derecho en que se apoya este recurso, solicito a S.S. ILTMA., se sirva decretar orden de no innovar, en términos de ordenar a que la Isapre no aplique el reajuste GES. Sírvase S.S. Iltma., así declararlo, ordenando se notifique por el medio que S.S., determine con la mayor urgencia a la recurrida.  SEGUNDO OTROSÍ: Se sirva tener por acompañado el siguiente documento:  1. Documento emitido por la ISAPRE Consalud que acredita afiliación actual de  ROBERTO CAMPOS RIBERA.  TERCER OTROSÍ: PIDO A S.S. ILTMA., Se sirva tener presente que en mi calidad de abogado habilitado para el ejercicio de la profesión patrocino personalmente el presente recurso de protección, en consideración del artículo 2° del Auto Acordado Acta 70-2007 de la Excelentísima Corte Suprema. \"\\n      }\\n\\n  ]', start_char_idx=None, end_char_idx=None, text_template='{metadata_str}\\n\\n{content}', metadata_template='{key}: {value}', metadata_seperator='\\n'), score=0.8455901450698953)], metadata={'fa372ff5-430c-4f36-bd06-cd7ac36fb3f9': {'file_path': 'Input/Prueba_causa.json', 'file_name': 'Prueba_causa.json', 'file_type': 'application/json', 'file_size': 6574, 'creation_date': '2024-06-19', 'last_modified_date': '2024-06-19', 'last_accessed_date': '2024-06-19'}, 'e0ed13c0-4f79-4bc2-a472-967127383428': {'file_path': 'Input/Prueba_causa.json', 'file_name': 'Prueba_causa.json', 'file_type': 'application/json', 'file_size': 6574, 'creation_date': '2024-06-19', 'last_modified_date': '2024-06-19', 'last_accessed_date': '2024-06-19'}})"
            ]
          },
          "metadata": {},
          "execution_count": 21
        }
      ]
    },
    {
      "cell_type": "code",
      "execution_count": null,
      "metadata": {
        "id": "2jKlr1YVxyaC",
        "pycharm": {
          "name": "#%%\n"
        },
        "outputId": "69b4334b-dcfa-4927-9146-feef85d2806e",
        "colab": {
          "base_uri": "https://localhost:8080/"
        }
      },
      "outputs": [
        {
          "output_type": "execute_result",
          "data": {
            "text/plain": [
              "[NodeWithScore(node=TextNode(id_='fa372ff5-430c-4f36-bd06-cd7ac36fb3f9', embedding=None, metadata={'file_path': 'Input/Prueba_causa.json', 'file_name': 'Prueba_causa.json', 'file_type': 'application/json', 'file_size': 6574, 'creation_date': '2024-06-19', 'last_modified_date': '2024-06-19', 'last_accessed_date': '2024-06-19'}, excluded_embed_metadata_keys=['file_name', 'file_type', 'file_size', 'creation_date', 'last_modified_date', 'last_accessed_date'], excluded_llm_metadata_keys=['file_name', 'file_type', 'file_size', 'creation_date', 'last_modified_date', 'last_accessed_date'], relationships={<NodeRelationship.SOURCE: '1'>: RelatedNodeInfo(node_id='95f34bd5-5bda-4cb5-ab25-0d7c311b677f', node_type=<ObjectType.DOCUMENT: '4'>, metadata={'file_path': 'Input/Prueba_causa.json', 'file_name': 'Prueba_causa.json', 'file_type': 'application/json', 'file_size': 6574, 'creation_date': '2024-06-19', 'last_modified_date': '2024-06-19', 'last_accessed_date': '2024-06-19'}, hash='d52c4685fff10cbc697b09fa1815522dd7620a5abf56aedf6288c2800967b9b9'), <NodeRelationship.NEXT: '3'>: RelatedNodeInfo(node_id='4df12351-95d0-4c75-a95c-16155abe6a27', node_type=<ObjectType.TEXT: '1'>, metadata={'file_path': 'Input/Prueba_causa.json', 'file_name': 'Prueba_causa.json', 'file_type': 'application/json', 'file_size': 6574, 'creation_date': '2024-06-19', 'last_modified_date': '2024-06-19', 'last_accessed_date': '2024-06-19'}, hash='dc0e2bdae9e20ad3611f1f8c5b2228bb9b27ceac2763893be5d45da536e4c4ff')}, hash='d5dd7afd3a00eb8b896d64e4c5c26c7e23b0fc1e459fc583b0be4dad246ee40c', text='[\\n    {\\n      \"court\": \"C.A. de Temuco\",\\n      \"role\": \"38364\",\\n      \"year\": \"2022\",\\n      \"text\": \"POR TANTO: De acuerdo con lo dispuesto en los artículos 19, números 1°, 9° y 24°; artículo 20 de la Constitución Política de la República y al Auto Acordado de la Excma. Corte Suprema, sobre tramitación y fallo del recurso de protección de garantías constitucionales, y demás disposiciones constitucionales y legales citadas,  SOLICITO A V.S.I. que tenga por presentado este recurso de protección a favor de BARTOLOMÉ ENRIQUE SAGREDO COLL, en contra de ISAPRE Consalud S.A., por los actos ilegales y arbitrarios en que incurre, al haber modificado unilateralmente mi plan individual de salud, al alzar el precio de la cobertura GES, acto que menoscaba los derechos constitucionales asegurados en los números 1º, 9º y 24º del artículo 19 de la Constitución Política de la República, acogerlo a tramitación y en definitiva declarar:  1.- Que el alza a 1,390 UF por cada carga inscrita, en el precio de la cobertura GES, es arbitraria e ilegal y que la recurrida debe conservar las condiciones pactadas, sin modificaciones en el precio.  2.- Que la recurrida debe mantener sin alteraciones por concepto de precio de cobertura GES el plan individual de salud, todo ello con expresa condena en costas.  PRIMER OTROSÍ: En atención de los antecedentes de hecho y de derecho en que se apoya este recurso, solicito a S.S. ILTMA., se sirva decretar orden de no innovar, en términos de ordenar a que la Isapre no aplique el reajuste GES. Sírvase S.S. Iltma., así declararlo, ordenando se notifique por el medio que S.S., determine con la mayor urgencia a la recurrida.  SEGUNDO OTROSÍ: Se sirva tener por acompañado el siguiente documento:  1. Formulario Único de Notificación (FUN), que acredita la afiliación actual de la  parte recurrente a la ISAPRE  Consalud.  TERCER OTROSÍ: PIDO A S.S. ILTMA., Se sirva tener presente que en mi calidad de abogado habilitado para el ejercicio de la profesión patrocino personalmente el presente recurso de protección, en consideración del artículo 2° del Auto Acordado Acta 70-2007 de la Excelentísima Corte Suprema. \"\\n    },\\n    {\\n      \"court\": \"C.A. de Temuco\",\\n      \"role\": \"41083\",\\n      \"year\": \"2022\",\\n      \"text\": \"POR TANTO: De acuerdo con lo dispuesto en los artículos 19, números 1°, 9° y 24°; artículo 20 de la Constitución Política de la República y al Auto Acordado de la Excma. Corte Suprema, sobre tramitación y fallo del recurso de protección de garantías constitucionales, y demás disposiciones constitucionales y legales citadas,  SOLICITO A V.S.I. que tenga por presentado este recurso de protección a favor de BARTOLOMÉ ENRIQUE COLL SAGREDO, en contra de ISAPRE Consalud S.A., por los actos ilegales y arbitrarios en que incurre, al haber modificado unilateralmente mi plan individual de salud, al alzar el precio de la cobertura GES, acto que menoscaba los derechos constitucionales asegurados en los números 1º, 9º y 24º del artículo 19 de la Constitución Política de la República, acogerlo a tramitación y en definitiva declarar:  1.- Que el alza a 1,390 UF por cada carga inscrita, en el precio de la cobertura GES, es arbitraria e ilegal y que la recurrida debe conservar las condiciones pactadas, sin modificaciones en el precio.', start_char_idx=None, end_char_idx=None, text_template='{metadata_str}\\n\\n{content}', metadata_template='{key}: {value}', metadata_seperator='\\n'), score=0.852778847129177),\n",
              " NodeWithScore(node=TextNode(id_='e0ed13c0-4f79-4bc2-a472-967127383428', embedding=None, metadata={'file_path': 'Input/Prueba_causa.json', 'file_name': 'Prueba_causa.json', 'file_type': 'application/json', 'file_size': 6574, 'creation_date': '2024-06-19', 'last_modified_date': '2024-06-19', 'last_accessed_date': '2024-06-19'}, excluded_embed_metadata_keys=['file_name', 'file_type', 'file_size', 'creation_date', 'last_modified_date', 'last_accessed_date'], excluded_llm_metadata_keys=['file_name', 'file_type', 'file_size', 'creation_date', 'last_modified_date', 'last_accessed_date'], relationships={<NodeRelationship.SOURCE: '1'>: RelatedNodeInfo(node_id='95f34bd5-5bda-4cb5-ab25-0d7c311b677f', node_type=<ObjectType.DOCUMENT: '4'>, metadata={'file_path': 'Input/Prueba_causa.json', 'file_name': 'Prueba_causa.json', 'file_type': 'application/json', 'file_size': 6574, 'creation_date': '2024-06-19', 'last_modified_date': '2024-06-19', 'last_accessed_date': '2024-06-19'}, hash='d52c4685fff10cbc697b09fa1815522dd7620a5abf56aedf6288c2800967b9b9'), <NodeRelationship.PREVIOUS: '2'>: RelatedNodeInfo(node_id='4df12351-95d0-4c75-a95c-16155abe6a27', node_type=<ObjectType.TEXT: '1'>, metadata={'file_path': 'Input/Prueba_causa.json', 'file_name': 'Prueba_causa.json', 'file_type': 'application/json', 'file_size': 6574, 'creation_date': '2024-06-19', 'last_modified_date': '2024-06-19', 'last_accessed_date': '2024-06-19'}, hash='dc0e2bdae9e20ad3611f1f8c5b2228bb9b27ceac2763893be5d45da536e4c4ff')}, hash='b6076833120a6f05e2270ada092ceac3f64063413b38f7528344ca636452be32', text='2.- Que la recurrida debe mantener sin alteraciones por concepto de precio de cobertura GES el plan individual de salud, todo ello con expresa condena en costas.  PRIMER OTROSÍ: En atención de los antecedentes de hecho y de derecho en que se apoya este recurso, solicito a S.S. ILTMA., se sirva decretar orden de no innovar, en términos de ordenar a que la Isapre no aplique el reajuste GES. Sírvase S.S. Iltma., así declararlo, ordenando se notifique por el medio que S.S., determine con la mayor urgencia a la recurrida.  SEGUNDO OTROSÍ: Se sirva tener por acompañado el siguiente documento:  1. Documento emitido por la ISAPRE Consalud que acredita afiliación actual de  ROBERTO CAMPOS RIBERA.  TERCER OTROSÍ: PIDO A S.S. ILTMA., Se sirva tener presente que en mi calidad de abogado habilitado para el ejercicio de la profesión patrocino personalmente el presente recurso de protección, en consideración del artículo 2° del Auto Acordado Acta 70-2007 de la Excelentísima Corte Suprema. \"\\n      }\\n\\n  ]', start_char_idx=None, end_char_idx=None, text_template='{metadata_str}\\n\\n{content}', metadata_template='{key}: {value}', metadata_seperator='\\n'), score=0.8455901450698953)]"
            ]
          },
          "metadata": {},
          "execution_count": 22
        }
      ],
      "source": [
        "response.source_nodes"
      ]
    },
    {
      "cell_type": "code",
      "execution_count": null,
      "metadata": {
        "id": "hNF44jFfxyaC",
        "pycharm": {
          "name": "#%%\n"
        },
        "colab": {
          "base_uri": "https://localhost:8080/"
        },
        "outputId": "7f604687-c8d7-4a85-e3b4-04b42e2a478a"
      },
      "outputs": [
        {
          "output_type": "stream",
          "name": "stdout",
          "text": [
            "[\n",
            "    {\n",
            "      \"court\": \"C.A. de Temuco\",\n",
            "      \"role\": \"38364\",\n",
            "      \"year\": \"2022\",\n",
            "      \"text\": \"POR TANTO: De acuerdo con lo dispuesto en los artículos 19, números 1°, 9° y 24°; artículo 20 de la Constitución Política de la República y al Auto Acordado de la Excma. Corte Suprema, sobre tramitación y fallo del recurso de protección de garantías constitucionales, y demás disposiciones constitucionales y legales citadas,  SOLICITO A V.S.I. que tenga por presentado este recurso de protección a favor de BARTOLOMÉ ENRIQUE SAGREDO COLL, en contra de ISAPRE Consalud S.A., por los actos ilegales y arbitrarios en que incurre, al haber modificado unilateralmente mi plan individual de salud, al alzar el precio de la cobertura GES, acto que menoscaba los derechos constitucionales asegurados en los números 1º, 9º y 24º del artículo 19 de la Constitución Política de la República, acogerlo a tramitación y en definitiva declarar:  1.- Que el alza a 1,390 UF por cada carga inscrita, en el precio de la cobertura GES, es arbitraria e ilegal y que la recurrida debe conservar las condiciones pactadas, sin modificaciones en el precio.  2.- Que la recurrida debe mantener sin alteraciones por concepto de precio de cobertura GES el plan individual de salud, todo ello con expresa condena en costas.  PRIMER OTROSÍ: En atención de los antecedentes de hecho y de derecho en que se apoya este recurso, solicito a S.S. ILTMA., se sirva decretar orden de no innovar, en términos de ordenar a que la Isapre no aplique el reajuste GES. Sírvase S.S. Iltma., así declararlo, ordenando se notifique por el medio que S.S., determine con la mayor urgencia a la recurrida.  SEGUNDO OTROSÍ: Se sirva tener por acompañado el siguiente documento:  1. Formulario Único de Notificación (FUN), que acredita la afiliación actual de la  parte recurrente a la ISAPRE  Consalud.  TERCER OTROSÍ: PIDO A S.S. ILTMA., Se sirva tener presente que en mi calidad de abogado habilitado para el ejercicio de la profesión patrocino personalmente el presente recurso de protección, en consideración del artículo 2° del Auto Acordado Acta 70-2007 de la Excelentísima Corte Suprema. \"\n",
            "    },\n",
            "    {\n",
            "      \"court\": \"C.A. de Temuco\",\n",
            "      \"role\": \"41083\",\n",
            "      \"year\": \"2022\",\n",
            "      \"text\": \"POR TANTO: De acuerdo con lo dispuesto en los artículos 19, números 1°, 9° y 24°; artículo 20 de la Constitución Política de la República y al Auto Acordado de la Excma. Corte Suprema, sobre tramitación y fallo del recurso de protección de garantías constitucionales, y demás disposiciones constitucionales y legales citadas,  SOLICITO A V.S.I. que tenga por presentado este recurso de protección a favor de BARTOLOMÉ ENRIQUE COLL SAGREDO, en contra de ISAPRE Consalud S.A., por los actos ilegales y arbitrarios en que incurre, al haber modificado unilateralmente mi plan individual de salud, al alzar el precio de la cobertura GES, acto que menoscaba los derechos constitucionales asegurados en los números 1º, 9º y 24º del artículo 19 de la Constitución Política de la República, acogerlo a tramitación y en definitiva declarar:  1.- Que el alza a 1,390 UF por cada carga inscrita, en el precio de la cobertura GES, es arbitraria e ilegal y que la recurrida debe conservar las condiciones pactadas, sin modificaciones en el precio.\n",
            "2.- Que la recurrida debe mantener sin alteraciones por concepto de precio de cobertura GES el plan individual de salud, todo ello con expresa condena en costas.  PRIMER OTROSÍ: En atención de los antecedentes de hecho y de derecho en que se apoya este recurso, solicito a S.S. ILTMA., se sirva decretar orden de no innovar, en términos de ordenar a que la Isapre no aplique el reajuste GES. Sírvase S.S. Iltma., así declararlo, ordenando se notifique por el medio que S.S., determine con la mayor urgencia a la recurrida.  SEGUNDO OTROSÍ: Se sirva tener por acompañado el siguiente documento:  1. Documento emitido por la ISAPRE Consalud que acredita afiliación actual de  ROBERTO CAMPOS RIBERA.  TERCER OTROSÍ: PIDO A S.S. ILTMA., Se sirva tener presente que en mi calidad de abogado habilitado para el ejercicio de la profesión patrocino personalmente el presente recurso de protección, en consideración del artículo 2° del Auto Acordado Acta 70-2007 de la Excelentísima Corte Suprema. \"\n",
            "      }\n",
            "\n",
            "  ]\n"
          ]
        }
      ],
      "source": [
        "for _ in response.source_nodes:\n",
        "    print(_.text)"
      ]
    },
    {
      "cell_type": "markdown",
      "metadata": {
        "collapsed": false,
        "id": "dSEL8rjQxyaC",
        "pycharm": {
          "name": "#%% md\n"
        }
      },
      "source": [
        " Valores default - service_context"
      ]
    },
    {
      "cell_type": "code",
      "execution_count": null,
      "metadata": {
        "id": "Eufi_Pf2xyaD",
        "pycharm": {
          "name": "#%%\n"
        },
        "colab": {
          "base_uri": "https://localhost:8080/"
        },
        "outputId": "b2f0ec45-e5be-4443-b728-121e2eb2f4ad"
      },
      "outputs": [
        {
          "output_type": "execute_result",
          "data": {
            "text/plain": [
              "ServiceContext(llm_predictor=LLMPredictor(system_prompt=None, query_wrapper_prompt=None, pydantic_program_mode=<PydanticProgramMode.DEFAULT: 'default'>), prompt_helper=PromptHelper(context_window=4096, num_output=256, chunk_overlap_ratio=0.1, chunk_size_limit=None, separator=' '), embed_model=OpenAIEmbedding(model_name='text-embedding-ada-002', embed_batch_size=10, callback_manager=<llama_index.callbacks.base.CallbackManager object at 0x7ade3d10d300>, additional_kwargs={}, api_key='sk-proj-baUeBIj0g0DOpKfxHjEFT3BlbkFJT3Yt0UKh6vgcqsPLVIF0', api_base='https://api.openai.com/v1', api_version='', max_retries=10, timeout=60.0), transformations=[SentenceSplitter(include_metadata=True, include_prev_next_rel=True, callback_manager=<llama_index.callbacks.base.CallbackManager object at 0x7ade3d10d300>, chunk_size=1024, chunk_overlap=200, separator=' ', paragraph_separator='\\n\\n\\n', secondary_chunking_regex='[^,.;。？！]+[,.;。？！]?')], llama_logger=<llama_index.logger.base.LlamaLogger object at 0x7ade465377c0>, callback_manager=<llama_index.callbacks.base.CallbackManager object at 0x7ade3d10d300>)"
            ]
          },
          "metadata": {},
          "execution_count": 24
        }
      ],
      "source": [
        "index.service_context"
      ]
    },
    {
      "cell_type": "code",
      "execution_count": null,
      "metadata": {
        "id": "w5wKWZpbxyaD",
        "pycharm": {
          "name": "#%%\n"
        },
        "colab": {
          "base_uri": "https://localhost:8080/"
        },
        "outputId": "a5be1095-eb5a-4bbd-f019-c1d89a77b40d"
      },
      "outputs": [
        {
          "output_type": "execute_result",
          "data": {
            "text/plain": [
              "OpenAI(callback_manager=<llama_index.callbacks.base.CallbackManager object at 0x7ade3d10d300>, model='gpt-3.5-turbo', temperature=0.1, max_tokens=None, additional_kwargs={}, max_retries=3, timeout=60.0, api_key='sk-proj-baUeBIj0g0DOpKfxHjEFT3BlbkFJT3Yt0UKh6vgcqsPLVIF0', api_base='https://api.openai.com/v1', api_version='')"
            ]
          },
          "metadata": {},
          "execution_count": 25
        }
      ],
      "source": [
        "index.service_context.llm"
      ]
    },
    {
      "cell_type": "code",
      "execution_count": null,
      "metadata": {
        "id": "zmu1CJBUxyaD",
        "pycharm": {
          "name": "#%%\n"
        },
        "colab": {
          "base_uri": "https://localhost:8080/"
        },
        "outputId": "66e8aed5-794b-4636-e520-866c43ab8f92"
      },
      "outputs": [
        {
          "output_type": "execute_result",
          "data": {
            "text/plain": [
              "OpenAIEmbedding(model_name='text-embedding-ada-002', embed_batch_size=10, callback_manager=<llama_index.callbacks.base.CallbackManager object at 0x7ade3d10d300>, additional_kwargs={}, api_key='sk-proj-baUeBIj0g0DOpKfxHjEFT3BlbkFJT3Yt0UKh6vgcqsPLVIF0', api_base='https://api.openai.com/v1', api_version='', max_retries=10, timeout=60.0)"
            ]
          },
          "metadata": {},
          "execution_count": 26
        }
      ],
      "source": [
        "index.service_context.embed_model"
      ]
    },
    {
      "cell_type": "code",
      "execution_count": null,
      "metadata": {
        "id": "iowU3mkBxyaD",
        "pycharm": {
          "name": "#%%\n"
        },
        "colab": {
          "base_uri": "https://localhost:8080/"
        },
        "outputId": "634781ee-6fa1-446d-fbbb-a6a00f4171b4"
      },
      "outputs": [
        {
          "output_type": "execute_result",
          "data": {
            "text/plain": [
              "[SentenceSplitter(include_metadata=True, include_prev_next_rel=True, callback_manager=<llama_index.callbacks.base.CallbackManager object at 0x7ade3d10d300>, chunk_size=1024, chunk_overlap=200, separator=' ', paragraph_separator='\\n\\n\\n', secondary_chunking_regex='[^,.;。？！]+[,.;。？！]?')]"
            ]
          },
          "metadata": {},
          "execution_count": 27
        }
      ],
      "source": [
        "index.service_context.transformations"
      ]
    },
    {
      "cell_type": "markdown",
      "metadata": {
        "collapsed": false,
        "id": "0KQuGhh-xyaD",
        "pycharm": {
          "name": "#%% md\n"
        }
      },
      "source": [
        "\n",
        "Valores default - service_context"
      ]
    },
    {
      "cell_type": "code",
      "execution_count": null,
      "metadata": {
        "id": "Ke_3s2PkxyaE",
        "pycharm": {
          "name": "#%%\n"
        },
        "colab": {
          "base_uri": "https://localhost:8080/"
        },
        "outputId": "349343f3-eee8-484b-bdc5-affffe544cc9"
      },
      "outputs": [
        {
          "output_type": "execute_result",
          "data": {
            "text/plain": [
              "StorageContext(docstore=<llama_index.storage.docstore.simple_docstore.SimpleDocumentStore object at 0x7ade3d10d510>, index_store=<llama_index.storage.index_store.simple_index_store.SimpleIndexStore object at 0x7ade3d10d690>, vector_stores={'default': <llama_index.vector_stores.simple.SimpleVectorStore object at 0x7ade3d10d4e0>}, graph_store=<llama_index.graph_stores.simple.SimpleGraphStore object at 0x7ade3d10d5a0>)"
            ]
          },
          "metadata": {},
          "execution_count": 28
        }
      ],
      "source": [
        "index.storage_context"
      ]
    },
    {
      "cell_type": "code",
      "execution_count": null,
      "metadata": {
        "id": "Gq_SkWIAxyaE",
        "pycharm": {
          "name": "#%%\n"
        },
        "colab": {
          "base_uri": "https://localhost:8080/"
        },
        "outputId": "26d4b299-65bf-45ea-b6f0-2e836ec273a1"
      },
      "outputs": [
        {
          "output_type": "execute_result",
          "data": {
            "text/plain": [
              "{'default': <llama_index.vector_stores.simple.SimpleVectorStore at 0x7ade3d10d4e0>}"
            ]
          },
          "metadata": {},
          "execution_count": 29
        }
      ],
      "source": [
        "index.storage_context.vector_stores"
      ]
    }
  ],
  "metadata": {
    "colab": {
      "provenance": []
    },
    "kernelspec": {
      "display_name": "Python 3",
      "language": "python",
      "name": "python3"
    },
    "language_info": {
      "codemirror_mode": {
        "name": "ipython",
        "version": 3
      },
      "file_extension": ".py",
      "mimetype": "text/x-python",
      "name": "python",
      "nbconvert_exporter": "python",
      "pygments_lexer": "ipython3",
      "version": "3.9.18"
    }
  },
  "nbformat": 4,
  "nbformat_minor": 0
}